{
  "nbformat": 4,
  "nbformat_minor": 0,
  "metadata": {
    "colab": {
      "name": "Klassifikation-Bilder-Kleidung.ipynb",
      "provenance": [],
      "collapsed_sections": []
    },
    "kernelspec": {
      "name": "python3",
      "display_name": "Python 3"
    },
    "language_info": {
      "name": "python"
    }
  },
  "cells": [
    {
      "cell_type": "code",
      "execution_count": null,
      "metadata": {
        "id": "-qHwRxXBWhLm"
      },
      "outputs": [],
      "source": [
        "## Used: https://www.tensorflow.org/tutorials/keras/classification\n"
      ]
    },
    {
      "cell_type": "code",
      "source": [
        "import tensorflow as tf\n",
        "import numpy as np\n",
        "import matplotlib.pyplot as plt\n",
        "\n",
        "print(tf.__version__)"
      ],
      "metadata": {
        "colab": {
          "base_uri": "https://localhost:8080/"
        },
        "id": "u4Hl-VQ4WqI0",
        "outputId": "4213b9be-dd90-4420-f99d-2d8da430dba9"
      },
      "execution_count": 2,
      "outputs": [
        {
          "output_type": "stream",
          "name": "stdout",
          "text": [
            "2.7.0\n"
          ]
        }
      ]
    },
    {
      "cell_type": "code",
      "source": [
        "fashion_mnist = tf.keras.datasets.fashion_mnist\n",
        "(train_images, train_labels), (test_images, test_labels) = fashion_mnist.load_data()\n"
      ],
      "metadata": {
        "colab": {
          "base_uri": "https://localhost:8080/"
        },
        "id": "mg3NtGK5X4_o",
        "outputId": "5b98dbc5-9f1d-4256-b3c7-7d522b7c3797"
      },
      "execution_count": 3,
      "outputs": [
        {
          "output_type": "stream",
          "name": "stdout",
          "text": [
            "Downloading data from https://storage.googleapis.com/tensorflow/tf-keras-datasets/train-labels-idx1-ubyte.gz\n",
            "32768/29515 [=================================] - 0s 0us/step\n",
            "40960/29515 [=========================================] - 0s 0us/step\n",
            "Downloading data from https://storage.googleapis.com/tensorflow/tf-keras-datasets/train-images-idx3-ubyte.gz\n",
            "26427392/26421880 [==============================] - 0s 0us/step\n",
            "26435584/26421880 [==============================] - 0s 0us/step\n",
            "Downloading data from https://storage.googleapis.com/tensorflow/tf-keras-datasets/t10k-labels-idx1-ubyte.gz\n",
            "16384/5148 [===============================================================================================] - 0s 0us/step\n",
            "Downloading data from https://storage.googleapis.com/tensorflow/tf-keras-datasets/t10k-images-idx3-ubyte.gz\n",
            "4423680/4422102 [==============================] - 0s 0us/step\n",
            "4431872/4422102 [==============================] - 0s 0us/step\n"
          ]
        }
      ]
    },
    {
      "cell_type": "code",
      "source": [
        "class_names = ['T-shirt/top', 'Trouser', 'Pullover', 'Dress', 'Coat',\n",
        "               'Sandal', 'Shirt', 'Sneaker', 'Bag', 'Ankle boot']"
      ],
      "metadata": {
        "id": "_I6nzWxlYYxC"
      },
      "execution_count": 5,
      "outputs": []
    },
    {
      "cell_type": "code",
      "source": [
        "train_images.shape\n"
      ],
      "metadata": {
        "colab": {
          "base_uri": "https://localhost:8080/"
        },
        "id": "NwzfXQRDYiiz",
        "outputId": "c071d607-0cea-4654-efc9-9610d801e257"
      },
      "execution_count": 11,
      "outputs": [
        {
          "output_type": "execute_result",
          "data": {
            "text/plain": [
              "(10000, 28, 28)"
            ]
          },
          "metadata": {},
          "execution_count": 11
        }
      ]
    },
    {
      "cell_type": "code",
      "source": [
        "test_images.shape"
      ],
      "metadata": {
        "colab": {
          "base_uri": "https://localhost:8080/"
        },
        "id": "_RhLrfPWY_u_",
        "outputId": "80515202-0f8d-4e98-f438-413566fd8482"
      },
      "execution_count": 12,
      "outputs": [
        {
          "output_type": "execute_result",
          "data": {
            "text/plain": [
              "(10000, 28, 28)"
            ]
          },
          "metadata": {},
          "execution_count": 12
        }
      ]
    },
    {
      "cell_type": "code",
      "source": [
        "len(train_labels)"
      ],
      "metadata": {
        "colab": {
          "base_uri": "https://localhost:8080/"
        },
        "id": "lOyzKRrFYwUF",
        "outputId": "878f83be-14c3-4319-b5e6-b45c57b72c3f"
      },
      "execution_count": 8,
      "outputs": [
        {
          "output_type": "execute_result",
          "data": {
            "text/plain": [
              "60000"
            ]
          },
          "metadata": {},
          "execution_count": 8
        }
      ]
    },
    {
      "cell_type": "code",
      "source": [
        "train_labels"
      ],
      "metadata": {
        "colab": {
          "base_uri": "https://localhost:8080/"
        },
        "id": "i3bwts_-YxI7",
        "outputId": "eaf17c77-e11e-4f4c-d64b-c2208b615024"
      },
      "execution_count": 9,
      "outputs": [
        {
          "output_type": "execute_result",
          "data": {
            "text/plain": [
              "array([9, 0, 0, ..., 3, 0, 5], dtype=uint8)"
            ]
          },
          "metadata": {},
          "execution_count": 9
        }
      ]
    },
    {
      "cell_type": "markdown",
      "source": [
        "###Prepare Data\n"
      ],
      "metadata": {
        "id": "1ZLkrK2xd-bm"
      }
    },
    {
      "cell_type": "code",
      "source": [
        "plt.figure()\n",
        "plt.imshow(train_images[0])\n",
        "plt.colorbar()\n",
        "plt.grid(False)\n",
        "plt.show()"
      ],
      "metadata": {
        "colab": {
          "base_uri": "https://localhost:8080/",
          "height": 265
        },
        "id": "C7dyuy4GeIZv",
        "outputId": "f893f8a2-2726-4d86-e2c0-ec18248ed990"
      },
      "execution_count": 15,
      "outputs": [
        {
          "output_type": "display_data",
          "data": {
            "image/png": "[encoded data removed]",
            "text/plain": [
              "<Figure size 432x288 with 2 Axes>"
            ]
          },
          "metadata": {
            "needs_background": "light"
          }
        }
      ]
    },
    {
      "cell_type": "code",
      "source": [
        "train_images = train_images / 255.0\n",
        "\n",
        "test_images = test_images / 255.0"
      ],
      "metadata": {
        "id": "Wyw_GEjseZDy"
      },
      "execution_count": 21,
      "outputs": []
    },
    {
      "cell_type": "code",
      "source": [
        "plt.figure(figsize=(10,10))\n",
        "for i in range(25):\n",
        "    plt.subplot(5,5,i+1)\n",
        "    plt.xticks([])\n",
        "    plt.yticks([])\n",
        "    plt.grid(False)\n",
        "    plt.imshow(train_images[i], cmap=plt.cm.binary)\n",
        "    plt.xlabel(class_names[train_labels[i]])\n",
        "plt.show()"
      ],
      "metadata": {
        "colab": {
          "base_uri": "https://localhost:8080/",
          "height": 589
        },
        "id": "EDr8HLSNebx_",
        "outputId": "5a86c30a-ec64-4650-c985-f2d933d83e80"
      },
      "execution_count": 22,
      "outputs": [
        {
          "output_type": "display_data",
          "data": {
            "image/png": "[encoded data removed]",
            "text/plain": [
              "<Figure size 720x720 with 25 Axes>"
            ]
          },
          "metadata": {}
        }
      ]
    },
    {
      "cell_type": "markdown",
      "source": [
        "###Build Model\n"
      ],
      "metadata": {
        "id": "uClNOTGJeiSm"
      }
    },
    {
      "cell_type": "code",
      "source": [
        "model = tf.keras.Sequential([\n",
        "    tf.keras.layers.Flatten(input_shape=(28, 28)),\n",
        "    tf.keras.layers.Dense(128, activation='relu'),\n",
        "    tf.keras.layers.Dense(10)\n",
        "])"
      ],
      "metadata": {
        "id": "dxbaO0cEektL"
      },
      "execution_count": 23,
      "outputs": []
    },
    {
      "cell_type": "code",
      "source": [
        "model.compile(optimizer='adam',\n",
        "              loss=tf.keras.losses.SparseCategoricalCrossentropy(from_logits=True),\n",
        "              metrics=['accuracy'])"
      ],
      "metadata": {
        "id": "oQYfVAbNf8ml"
      },
      "execution_count": 24,
      "outputs": []
    },
    {
      "cell_type": "markdown",
      "source": [
        "###Train Model\n"
      ],
      "metadata": {
        "id": "_BkfPADLgGdw"
      }
    },
    {
      "cell_type": "code",
      "source": [
        "model.fit(train_images, train_labels, epochs=70)\n"
      ],
      "metadata": {
        "colab": {
          "base_uri": "https://localhost:8080/"
        },
        "id": "Lx0wR2jAgIXO",
        "outputId": "8e2e71b0-1f94-4c53-cd73-08007c9d3048"
      },
      "execution_count": 55,
      "outputs": [
        {
          "output_type": "stream",
          "name": "stdout",
          "text": [
            "Epoch 1/70\n",
            "1875/1875 [==============================] - 4s 2ms/step - loss: 0.4148 - accuracy: 0.8532\n",
            "Epoch 2/70\n",
            "1875/1875 [==============================] - 4s 2ms/step - loss: 0.4092 - accuracy: 0.8555\n",
            "Epoch 3/70\n",
            "1875/1875 [==============================] - 4s 2ms/step - loss: 0.4031 - accuracy: 0.8580\n",
            "Epoch 4/70\n",
            "1875/1875 [==============================] - 4s 2ms/step - loss: 0.3979 - accuracy: 0.8596\n",
            "Epoch 5/70\n",
            "1875/1875 [==============================] - 4s 2ms/step - loss: 0.3927 - accuracy: 0.8608\n",
            "Epoch 6/70\n",
            "1875/1875 [==============================] - 4s 2ms/step - loss: 0.3880 - accuracy: 0.8625\n",
            "Epoch 7/70\n",
            "1875/1875 [==============================] - 4s 2ms/step - loss: 0.3840 - accuracy: 0.8642\n",
            "Epoch 8/70\n",
            "1875/1875 [==============================] - 4s 2ms/step - loss: 0.3801 - accuracy: 0.8648\n",
            "Epoch 9/70\n",
            "1875/1875 [==============================] - 4s 2ms/step - loss: 0.3761 - accuracy: 0.8668\n",
            "Epoch 10/70\n",
            "1875/1875 [==============================] - 4s 2ms/step - loss: 0.3722 - accuracy: 0.8687\n",
            "Epoch 11/70\n",
            "1875/1875 [==============================] - 4s 2ms/step - loss: 0.3688 - accuracy: 0.8682\n",
            "Epoch 12/70\n",
            "1875/1875 [==============================] - 4s 2ms/step - loss: 0.3657 - accuracy: 0.8702\n",
            "Epoch 13/70\n",
            "1875/1875 [==============================] - 4s 2ms/step - loss: 0.3625 - accuracy: 0.8714\n",
            "Epoch 14/70\n",
            "1875/1875 [==============================] - 4s 2ms/step - loss: 0.3595 - accuracy: 0.8719\n",
            "Epoch 15/70\n",
            "1875/1875 [==============================] - 4s 2ms/step - loss: 0.3558 - accuracy: 0.8735\n",
            "Epoch 16/70\n",
            "1875/1875 [==============================] - 5s 2ms/step - loss: 0.3533 - accuracy: 0.8746\n",
            "Epoch 17/70\n",
            "1875/1875 [==============================] - 4s 2ms/step - loss: 0.3511 - accuracy: 0.8756\n",
            "Epoch 18/70\n",
            "1875/1875 [==============================] - 4s 2ms/step - loss: 0.3478 - accuracy: 0.8763\n",
            "Epoch 19/70\n",
            "1875/1875 [==============================] - 4s 2ms/step - loss: 0.3453 - accuracy: 0.8775\n",
            "Epoch 20/70\n",
            "1875/1875 [==============================] - 4s 2ms/step - loss: 0.3425 - accuracy: 0.8782\n",
            "Epoch 21/70\n",
            "1875/1875 [==============================] - 4s 2ms/step - loss: 0.3400 - accuracy: 0.8792\n",
            "Epoch 22/70\n",
            "1875/1875 [==============================] - 4s 2ms/step - loss: 0.3373 - accuracy: 0.8802\n",
            "Epoch 23/70\n",
            "1875/1875 [==============================] - 4s 2ms/step - loss: 0.3354 - accuracy: 0.8814\n",
            "Epoch 24/70\n",
            "1875/1875 [==============================] - 4s 2ms/step - loss: 0.3329 - accuracy: 0.8823\n",
            "Epoch 25/70\n",
            "1875/1875 [==============================] - 4s 2ms/step - loss: 0.3305 - accuracy: 0.8827\n",
            "Epoch 26/70\n",
            "1875/1875 [==============================] - 4s 2ms/step - loss: 0.3282 - accuracy: 0.8837\n",
            "Epoch 27/70\n",
            "1875/1875 [==============================] - 5s 2ms/step - loss: 0.3260 - accuracy: 0.8844\n",
            "Epoch 28/70\n",
            "1875/1875 [==============================] - 4s 2ms/step - loss: 0.3244 - accuracy: 0.8853\n",
            "Epoch 29/70\n",
            "1875/1875 [==============================] - 4s 2ms/step - loss: 0.3220 - accuracy: 0.8856\n",
            "Epoch 30/70\n",
            "1875/1875 [==============================] - 4s 2ms/step - loss: 0.3201 - accuracy: 0.8859\n",
            "Epoch 31/70\n",
            "1875/1875 [==============================] - 4s 2ms/step - loss: 0.3177 - accuracy: 0.8870\n",
            "Epoch 32/70\n",
            "1875/1875 [==============================] - 4s 2ms/step - loss: 0.3163 - accuracy: 0.8874\n",
            "Epoch 33/70\n",
            "1875/1875 [==============================] - 4s 2ms/step - loss: 0.3140 - accuracy: 0.8889\n",
            "Epoch 34/70\n",
            "1875/1875 [==============================] - 4s 2ms/step - loss: 0.3123 - accuracy: 0.8894\n",
            "Epoch 35/70\n",
            "1875/1875 [==============================] - 4s 2ms/step - loss: 0.3102 - accuracy: 0.8896\n",
            "Epoch 36/70\n",
            "1875/1875 [==============================] - 4s 2ms/step - loss: 0.3089 - accuracy: 0.8902\n",
            "Epoch 37/70\n",
            "1875/1875 [==============================] - 4s 2ms/step - loss: 0.3066 - accuracy: 0.8907\n",
            "Epoch 38/70\n",
            "1875/1875 [==============================] - 4s 2ms/step - loss: 0.3049 - accuracy: 0.8913\n",
            "Epoch 39/70\n",
            "1875/1875 [==============================] - 4s 2ms/step - loss: 0.3032 - accuracy: 0.8930\n",
            "Epoch 40/70\n",
            "1875/1875 [==============================] - 4s 2ms/step - loss: 0.3016 - accuracy: 0.8928\n",
            "Epoch 41/70\n",
            "1875/1875 [==============================] - 4s 2ms/step - loss: 0.3001 - accuracy: 0.8939\n",
            "Epoch 42/70\n",
            "1875/1875 [==============================] - 4s 2ms/step - loss: 0.2984 - accuracy: 0.8933\n",
            "Epoch 43/70\n",
            "1875/1875 [==============================] - 4s 2ms/step - loss: 0.2965 - accuracy: 0.8953\n",
            "Epoch 44/70\n",
            "1875/1875 [==============================] - 4s 2ms/step - loss: 0.2955 - accuracy: 0.8942\n",
            "Epoch 45/70\n",
            "1875/1875 [==============================] - 5s 2ms/step - loss: 0.2938 - accuracy: 0.8957\n",
            "Epoch 46/70\n",
            "1875/1875 [==============================] - 4s 2ms/step - loss: 0.2923 - accuracy: 0.8955\n",
            "Epoch 47/70\n",
            "1875/1875 [==============================] - 5s 3ms/step - loss: 0.2905 - accuracy: 0.8967\n",
            "Epoch 48/70\n",
            "1875/1875 [==============================] - 5s 2ms/step - loss: 0.2886 - accuracy: 0.8967\n",
            "Epoch 49/70\n",
            "1875/1875 [==============================] - 4s 2ms/step - loss: 0.2877 - accuracy: 0.8975\n",
            "Epoch 50/70\n",
            "1875/1875 [==============================] - 5s 3ms/step - loss: 0.2860 - accuracy: 0.8971\n",
            "Epoch 51/70\n",
            "1875/1875 [==============================] - 5s 2ms/step - loss: 0.2846 - accuracy: 0.8983\n",
            "Epoch 52/70\n",
            "1875/1875 [==============================] - 5s 2ms/step - loss: 0.2833 - accuracy: 0.8990\n",
            "Epoch 53/70\n",
            "1875/1875 [==============================] - 5s 2ms/step - loss: 0.2815 - accuracy: 0.8997\n",
            "Epoch 54/70\n",
            "1875/1875 [==============================] - 5s 3ms/step - loss: 0.2803 - accuracy: 0.8997\n",
            "Epoch 55/70\n",
            "1875/1875 [==============================] - 5s 3ms/step - loss: 0.2787 - accuracy: 0.9010\n",
            "Epoch 56/70\n",
            "1875/1875 [==============================] - 5s 2ms/step - loss: 0.2781 - accuracy: 0.9002\n",
            "Epoch 57/70\n",
            "1875/1875 [==============================] - 5s 3ms/step - loss: 0.2759 - accuracy: 0.9018\n",
            "Epoch 58/70\n",
            "1875/1875 [==============================] - 5s 2ms/step - loss: 0.2748 - accuracy: 0.9017\n",
            "Epoch 59/70\n",
            "1875/1875 [==============================] - 4s 2ms/step - loss: 0.2735 - accuracy: 0.9029\n",
            "Epoch 60/70\n",
            "1875/1875 [==============================] - 4s 2ms/step - loss: 0.2722 - accuracy: 0.9025\n",
            "Epoch 61/70\n",
            "1875/1875 [==============================] - 4s 2ms/step - loss: 0.2713 - accuracy: 0.9029\n",
            "Epoch 62/70\n",
            "1875/1875 [==============================] - 5s 2ms/step - loss: 0.2702 - accuracy: 0.9042\n",
            "Epoch 63/70\n",
            "1875/1875 [==============================] - 4s 2ms/step - loss: 0.2687 - accuracy: 0.9044\n",
            "Epoch 64/70\n",
            "1875/1875 [==============================] - 5s 2ms/step - loss: 0.2672 - accuracy: 0.9046\n",
            "Epoch 65/70\n",
            "1875/1875 [==============================] - 4s 2ms/step - loss: 0.2662 - accuracy: 0.9049\n",
            "Epoch 66/70\n",
            "1875/1875 [==============================] - 5s 2ms/step - loss: 0.2652 - accuracy: 0.9056\n",
            "Epoch 67/70\n",
            "1875/1875 [==============================] - 5s 3ms/step - loss: 0.2633 - accuracy: 0.9063\n",
            "Epoch 68/70\n",
            "1875/1875 [==============================] - 5s 3ms/step - loss: 0.2621 - accuracy: 0.9058\n",
            "Epoch 69/70\n",
            "1875/1875 [==============================] - 5s 2ms/step - loss: 0.2615 - accuracy: 0.9064\n",
            "Epoch 70/70\n",
            "1875/1875 [==============================] - 4s 2ms/step - loss: 0.2605 - accuracy: 0.9069\n"
          ]
        },
        {
          "output_type": "execute_result",
          "data": {
            "text/plain": [
              "<keras.callbacks.History at 0x7f45a7f7a810>"
            ]
          },
          "metadata": {},
          "execution_count": 55
        }
      ]
    },
    {
      "cell_type": "code",
      "source": [
        "test_loss, test_acc = model.evaluate(test_images,  test_labels, verbose=2)\n",
        "\n",
        "print('\\nTest accuracy:', test_acc)"
      ],
      "metadata": {
        "colab": {
          "base_uri": "https://localhost:8080/"
        },
        "id": "PphGW8l3gnmg",
        "outputId": "ae753af1-a399-4870-c678-c2957f5f2ff9"
      },
      "execution_count": 56,
      "outputs": [
        {
          "output_type": "stream",
          "name": "stdout",
          "text": [
            "313/313 - 0s - loss: 0.3437 - accuracy: 0.8783 - 349ms/epoch - 1ms/step\n",
            "\n",
            "Test accuracy: 0.8783000111579895\n"
          ]
        }
      ]
    },
    {
      "cell_type": "code",
      "source": [
        "probability_model = tf.keras.Sequential([model, \n",
        "                                         tf.keras.layers.Softmax()])\n",
        "predictions = probability_model.predict(test_images)\n",
        "predictions[0]"
      ],
      "metadata": {
        "colab": {
          "base_uri": "https://localhost:8080/"
        },
        "id": "HgNcSRpChCxU",
        "outputId": "3b4385b2-8db2-405a-ab15-f1ff316e58a8"
      },
      "execution_count": 57,
      "outputs": [
        {
          "output_type": "execute_result",
          "data": {
            "text/plain": [
              "array([2.8503064e-09, 1.8714626e-10, 4.1711132e-07, 2.7796300e-06,\n",
              "       5.7833986e-06, 4.0483147e-02, 1.7933929e-06, 3.9154142e-02,\n",
              "       4.4215753e-04, 9.1990972e-01], dtype=float32)"
            ]
          },
          "metadata": {},
          "execution_count": 57
        }
      ]
    },
    {
      "cell_type": "code",
      "source": [
        "np.argmax(predictions[0])\n"
      ],
      "metadata": {
        "colab": {
          "base_uri": "https://localhost:8080/"
        },
        "id": "S_js5wBAhPR8",
        "outputId": "728f3099-cb64-4c3a-9a90-9ad69639a664"
      },
      "execution_count": 58,
      "outputs": [
        {
          "output_type": "execute_result",
          "data": {
            "text/plain": [
              "9"
            ]
          },
          "metadata": {},
          "execution_count": 58
        }
      ]
    },
    {
      "cell_type": "code",
      "source": [
        "test_labels[0]\n"
      ],
      "metadata": {
        "colab": {
          "base_uri": "https://localhost:8080/"
        },
        "id": "dIOv8tvdhzT8",
        "outputId": "8c87e8ce-8b34-4304-a79d-82351fed077b"
      },
      "execution_count": 59,
      "outputs": [
        {
          "output_type": "execute_result",
          "data": {
            "text/plain": [
              "9"
            ]
          },
          "metadata": {},
          "execution_count": 59
        }
      ]
    },
    {
      "cell_type": "code",
      "source": [
        "def plot_image(i, predictions_array, true_label, img):\n",
        "  true_label, img = true_label[i], img[i]\n",
        "  plt.grid(False)\n",
        "  plt.xticks([])\n",
        "  plt.yticks([])\n",
        "\n",
        "  plt.imshow(img, cmap=plt.cm.binary)\n",
        "\n",
        "  predicted_label = np.argmax(predictions_array)\n",
        "  if predicted_label == true_label:\n",
        "    color = 'blue'\n",
        "  else:\n",
        "    color = 'red'\n",
        "\n",
        "  plt.xlabel(\"{} {:2.0f}% ({})\".format(class_names[predicted_label],\n",
        "                                100*np.max(predictions_array),\n",
        "                                class_names[true_label]),\n",
        "                                color=color)\n",
        "\n",
        "def plot_value_array(i, predictions_array, true_label):\n",
        "  true_label = true_label[i]\n",
        "  plt.grid(False)\n",
        "  plt.xticks(range(10))\n",
        "  plt.yticks([])\n",
        "  thisplot = plt.bar(range(10), predictions_array, color=\"#777777\")\n",
        "  plt.ylim([0, 1])\n",
        "  predicted_label = np.argmax(predictions_array)\n",
        "\n",
        "  thisplot[predicted_label].set_color('red')\n",
        "  thisplot[true_label].set_color('blue')"
      ],
      "metadata": {
        "id": "46wxi96ah1po"
      },
      "execution_count": 60,
      "outputs": []
    },
    {
      "cell_type": "code",
      "source": [
        "i = 0\n",
        "plt.figure(figsize=(6,3))\n",
        "plt.subplot(1,2,1)\n",
        "plot_image(i, predictions[i], test_labels, test_images)\n",
        "plt.subplot(1,2,2)\n",
        "plot_value_array(i, predictions[i],  test_labels)\n",
        "plt.show()"
      ],
      "metadata": {
        "colab": {
          "base_uri": "https://localhost:8080/",
          "height": 211
        },
        "id": "3vkBveEwh45a",
        "outputId": "b4a2a64e-cc6e-40ec-81c5-09566c3ccd0b"
      },
      "execution_count": 61,
      "outputs": [
        {
          "output_type": "display_data",
          "data": {
            "image/png": "[encoded data removed]",
            "text/plain": [
              "<Figure size 432x216 with 2 Axes>"
            ]
          },
          "metadata": {
            "needs_background": "light"
          }
        }
      ]
    },
    {
      "cell_type": "code",
      "source": [
        "i = 12\n",
        "plt.figure(figsize=(6,3))\n",
        "plt.subplot(1,2,1)\n",
        "plot_image(i, predictions[i], test_labels, test_images)\n",
        "plt.subplot(1,2,2)\n",
        "plot_value_array(i, predictions[i],  test_labels)\n",
        "plt.show()"
      ],
      "metadata": {
        "colab": {
          "base_uri": "https://localhost:8080/",
          "height": 211
        },
        "id": "vc9HTPFYiIbu",
        "outputId": "efaa6f66-4914-4444-c453-7a3b76a27ff3"
      },
      "execution_count": 62,
      "outputs": [
        {
          "output_type": "display_data",
          "data": {
            "image/png": "[encoded data removed]",
            "text/plain": [
              "<Figure size 432x216 with 2 Axes>"
            ]
          },
          "metadata": {
            "needs_background": "light"
          }
        }
      ]
    },
    {
      "cell_type": "code",
      "source": [
        "# Plot the first X test images, their predicted labels, and the true labels.\n",
        "# Color correct predictions in blue and incorrect predictions in red.\n",
        "num_rows = 5\n",
        "num_cols = 3\n",
        "num_images = num_rows*num_cols\n",
        "plt.figure(figsize=(2*2*num_cols, 2*num_rows))\n",
        "for i in range(num_images):\n",
        "  plt.subplot(num_rows, 2*num_cols, 2*i+1)\n",
        "  plot_image(i, predictions[i], test_labels, test_images)\n",
        "  plt.subplot(num_rows, 2*num_cols, 2*i+2)\n",
        "  plot_value_array(i, predictions[i], test_labels)\n",
        "plt.tight_layout()\n",
        "plt.show()"
      ],
      "metadata": {
        "colab": {
          "base_uri": "https://localhost:8080/",
          "height": 691
        },
        "id": "oi_Bu6NviLiz",
        "outputId": "e1ca92c3-ed49-4350-bd68-84af7ed24fde"
      },
      "execution_count": 63,
      "outputs": [
        {
          "output_type": "display_data",
          "data": {
            "image/png": "[encoded data removed]",
            "text/plain": [
              "<Figure size 864x720 with 30 Axes>"
            ]
          },
          "metadata": {
            "needs_background": "light"
          }
        }
      ]
    },
    {
      "cell_type": "markdown",
      "source": [
        "##Use the trained model"
      ],
      "metadata": {
        "id": "nRxaysnXiZfG"
      }
    },
    {
      "cell_type": "code",
      "source": [
        "img = test_images[1]\n",
        "\n",
        "print(img.shape)"
      ],
      "metadata": {
        "colab": {
          "base_uri": "https://localhost:8080/"
        },
        "id": "qZFe6IDVieUc",
        "outputId": "3ece2d6e-0abd-4463-df1b-75b30fb95fff"
      },
      "execution_count": 64,
      "outputs": [
        {
          "output_type": "stream",
          "name": "stdout",
          "text": [
            "(28, 28)\n"
          ]
        }
      ]
    },
    {
      "cell_type": "code",
      "source": [
        "img = (np.expand_dims(img,0))\n",
        "\n",
        "print(img.shape)"
      ],
      "metadata": {
        "colab": {
          "base_uri": "https://localhost:8080/"
        },
        "id": "Fx20KL_yiimD",
        "outputId": "2be1fcf3-324b-4fbb-ec5e-01740fabd3a3"
      },
      "execution_count": 65,
      "outputs": [
        {
          "output_type": "stream",
          "name": "stdout",
          "text": [
            "(1, 28, 28)\n"
          ]
        }
      ]
    },
    {
      "cell_type": "code",
      "source": [
        "predictions_single = probability_model.predict(img)\n",
        "\n",
        "print(predictions_single)"
      ],
      "metadata": {
        "colab": {
          "base_uri": "https://localhost:8080/"
        },
        "id": "Vy1_di1dikRL",
        "outputId": "358b9c49-456d-4fe7-96a0-241af3b8d2c5"
      },
      "execution_count": 66,
      "outputs": [
        {
          "output_type": "stream",
          "name": "stdout",
          "text": [
            "[[8.81267624e-05 8.84611606e-10 9.94527996e-01 1.27510555e-06\n",
            "  2.01681280e-03 3.54650445e-16 3.33750946e-03 1.23628814e-25\n",
            "  2.82144811e-05 1.16914055e-20]]\n"
          ]
        }
      ]
    },
    {
      "cell_type": "code",
      "source": [
        "plot_value_array(1, predictions_single[0], test_labels)\n",
        "_ = plt.xticks(range(10), class_names, rotation=45)\n",
        "plt.show()"
      ],
      "metadata": {
        "colab": {
          "base_uri": "https://localhost:8080/",
          "height": 300
        },
        "id": "Nt_OA3primJ_",
        "outputId": "181818fc-1c16-494d-db53-0d5ee3a9d1d3"
      },
      "execution_count": 67,
      "outputs": [
        {
          "output_type": "display_data",
          "data": {
            "image/png": "[encoded data removed]",
            "text/plain": [
              "<Figure size 432x288 with 1 Axes>"
            ]
          },
          "metadata": {
            "needs_background": "light"
          }
        }
      ]
    },
    {
      "cell_type": "code",
      "source": [
        "np.argmax(predictions_single[0])\n"
      ],
      "metadata": {
        "colab": {
          "base_uri": "https://localhost:8080/"
        },
        "id": "1W-gGp9yin9S",
        "outputId": "a1f23481-7fe6-4ae4-9fc1-0cfbf7e981c2"
      },
      "execution_count": 68,
      "outputs": [
        {
          "output_type": "execute_result",
          "data": {
            "text/plain": [
              "2"
            ]
          },
          "metadata": {},
          "execution_count": 68
        }
      ]
    },
    {
      "cell_type": "code",
      "source": [
        "plt.imshow(test_images[1], cmap=plt.cm.binary)"
      ],
      "metadata": {
        "colab": {
          "base_uri": "https://localhost:8080/",
          "height": 282
        },
        "id": "CZxwM8Xqirs8",
        "outputId": "464c440d-adbc-46df-ba83-7ea327ce9a53"
      },
      "execution_count": 69,
      "outputs": [
        {
          "output_type": "execute_result",
          "data": {
            "text/plain": [
              "<matplotlib.image.AxesImage at 0x7f45abeb30d0>"
            ]
          },
          "metadata": {},
          "execution_count": 69
        },
        {
          "output_type": "display_data",
          "data": {
            "image/png": "[encoded data removed]",
            "text/plain": [
              "<Figure size 432x288 with 1 Axes>"
            ]
          },
          "metadata": {
            "needs_background": "light"
          }
        }
      ]
    },
    {
      "cell_type": "code",
      "source": [
        "plt.imshow(test_images[10], cmap=plt.cm.binary)"
      ],
      "metadata": {
        "colab": {
          "base_uri": "https://localhost:8080/",
          "height": 282
        },
        "id": "4opLPLxUlifP",
        "outputId": "0a196a8d-383f-47fa-8b0c-8ff4b1b2954e"
      },
      "execution_count": 70,
      "outputs": [
        {
          "output_type": "execute_result",
          "data": {
            "text/plain": [
              "<matplotlib.image.AxesImage at 0x7f45a8137150>"
            ]
          },
          "metadata": {},
          "execution_count": 70
        },
        {
          "output_type": "display_data",
          "data": {
            "image/png": "[encoded data removed]",
            "text/plain": [
              "<Figure size 432x288 with 1 Axes>"
            ]
          },
          "metadata": {
            "needs_background": "light"
          }
        }
      ]
    },
    {
      "cell_type": "code",
      "source": [
        "img2 = (np.expand_dims(test_images[10],0))\n",
        "predictions_single2 = probability_model.predict(img2)\n",
        "\n",
        "print(predictions_single2)"
      ],
      "metadata": {
        "colab": {
          "base_uri": "https://localhost:8080/"
        },
        "id": "eE3to_IrlrZY",
        "outputId": "09cc94b5-f592-4a69-de73-49473c99935b"
      },
      "execution_count": 71,
      "outputs": [
        {
          "output_type": "stream",
          "name": "stdout",
          "text": [
            "[[2.65833260e-05 1.06004954e-04 5.03945537e-02 1.89172963e-04\n",
            "  9.35690343e-01 2.18347302e-11 1.35674551e-02 1.08049847e-17\n",
            "  2.60128818e-05 2.68299109e-13]]\n"
          ]
        }
      ]
    },
    {
      "cell_type": "code",
      "source": [
        "plot_value_array(1, predictions_single2[0], test_labels)\n",
        "_ = plt.xticks(range(10), class_names, rotation=45)\n",
        "plt.show()"
      ],
      "metadata": {
        "colab": {
          "base_uri": "https://localhost:8080/",
          "height": 300
        },
        "id": "PWMaFus_l_pL",
        "outputId": "10357077-f936-4547-9fe1-ec7c2eb3e052"
      },
      "execution_count": 72,
      "outputs": [
        {
          "output_type": "display_data",
          "data": {
            "image/png": "[encoded data removed]",
            "text/plain": [
              "<Figure size 432x288 with 1 Axes>"
            ]
          },
          "metadata": {
            "needs_background": "light"
          }
        }
      ]
    },
    {
      "cell_type": "code",
      "source": [
        "plt.imshow(test_images[21], cmap=plt.cm.binary)"
      ],
      "metadata": {
        "colab": {
          "base_uri": "https://localhost:8080/",
          "height": 282
        },
        "id": "GWTQHAosnZKZ",
        "outputId": "379efece-861d-425e-941c-de0392d7e1df"
      },
      "execution_count": 73,
      "outputs": [
        {
          "output_type": "execute_result",
          "data": {
            "text/plain": [
              "<matplotlib.image.AxesImage at 0x7f45abf16650>"
            ]
          },
          "metadata": {},
          "execution_count": 73
        },
        {
          "output_type": "display_data",
          "data": {
            "image/png": "[encoded data removed]",
            "text/plain": [
              "<Figure size 432x288 with 1 Axes>"
            ]
          },
          "metadata": {
            "needs_background": "light"
          }
        }
      ]
    },
    {
      "cell_type": "code",
      "source": [
        "img3 = (np.expand_dims(test_images[21],0))\n",
        "predictions_single3 = probability_model.predict(img3)\n",
        "\n",
        "print(predictions_single3)"
      ],
      "metadata": {
        "colab": {
          "base_uri": "https://localhost:8080/"
        },
        "id": "sCmxYA6endf9",
        "outputId": "a594d857-939d-45b3-9391-ad0342717066"
      },
      "execution_count": 74,
      "outputs": [
        {
          "output_type": "stream",
          "name": "stdout",
          "text": [
            "[[1.0645797e-07 7.8263966e-08 5.2607170e-06 3.3812196e-04 1.7433593e-05\n",
            "  7.5862092e-01 8.7659384e-07 2.3986492e-01 3.1997255e-04 8.3222467e-04]]\n"
          ]
        }
      ]
    },
    {
      "cell_type": "code",
      "source": [
        "plot_value_array(1, predictions_single3[0], test_labels)\n",
        "_ = plt.xticks(range(10), class_names, rotation=45)\n",
        "plt.show()"
      ],
      "metadata": {
        "colab": {
          "base_uri": "https://localhost:8080/",
          "height": 300
        },
        "id": "PnXqYUujni4D",
        "outputId": "b262d870-faab-45f1-fbb6-8a6811fc1829"
      },
      "execution_count": 75,
      "outputs": [
        {
          "output_type": "display_data",
          "data": {
            "image/png": "[encoded data removed]",
            "text/plain": [
              "<Figure size 432x288 with 1 Axes>"
            ]
          },
          "metadata": {
            "needs_background": "light"
          }
        }
      ]
    }
  ]
}